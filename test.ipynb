{
 "cells": [
  {
   "cell_type": "code",
   "execution_count": 1,
   "metadata": {},
   "outputs": [
    {
     "data": {
      "text/plain": [
       "[{'username': 'cortega',\n",
       "  'password': 'WOP#OpwP&5',\n",
       "  'email': 'hhudson@example.org',\n",
       "  'phone': '(819)576-8381',\n",
       "  'role': <RoleEnum.BASIC: 'Обычная подписка'>},\n",
       " {'username': 'jasminemendoza',\n",
       "  'password': '%6FDmNriDg',\n",
       "  'email': 'bakermargaret@example.net',\n",
       "  'phone': '697-363-4814',\n",
       "  'role': <RoleEnum.BASIC: 'Обычная подписка'>},\n",
       " {'username': 'mwilliams',\n",
       "  'password': 'Z589JDfrR_',\n",
       "  'email': 'kjenkins@example.org',\n",
       "  'phone': '7626443362',\n",
       "  'role': <RoleEnum.BASIC: 'Обычная подписка'>},\n",
       " {'username': 'hwerner',\n",
       "  'password': 'kvYUheGs#8',\n",
       "  'email': 'donnahernandez@example.net',\n",
       "  'phone': '3446733303',\n",
       "  'role': <RoleEnum.BASIC: 'Обычная подписка'>},\n",
       " {'username': 'stephaniecooper',\n",
       "  'password': '2)r9MTw$Ui',\n",
       "  'email': 'thomasmark@example.net',\n",
       "  'phone': '(814)453-0954',\n",
       "  'role': <RoleEnum.PRO: 'Расширенная подписка'>}]"
      ]
     },
     "execution_count": 1,
     "metadata": {},
     "output_type": "execute_result"
    }
   ],
   "source": [
    "import random\n",
    "from faker import Faker\n",
    "from enums import RoleEnum\n",
    "from settings.config import settings\n",
    "\n",
    "faker = Faker()\n",
    "\n",
    "users_data = [{\n",
    "    'username': faker.user_name(),\n",
    "    'password': faker.password(),\n",
    "    'email': faker.email(),\n",
    "    'phone': faker.basic_phone_number(),\n",
    "    'role': random.choice(list(RoleEnum)),\n",
    "} for _ in range(5)]\n",
    "\n",
    "users_data"
   ]
  },
  {
   "cell_type": "code",
   "execution_count": 2,
   "metadata": {},
   "outputs": [
    {
     "data": {
      "text/plain": [
       "[{'username': 'cortega',\n",
       "  'password': 'WOP#OpwP&5',\n",
       "  'email': 'hhudson@example.org',\n",
       "  'phone': '(819)576-8381',\n",
       "  'role': <RoleEnum.BASIC: 'Обычная подписка'>},\n",
       " {'username': 'jasminemendoza',\n",
       "  'password': '%6FDmNriDg',\n",
       "  'email': 'bakermargaret@example.net',\n",
       "  'phone': '697-363-4814',\n",
       "  'role': <RoleEnum.BASIC: 'Обычная подписка'>},\n",
       " {'username': 'mwilliams',\n",
       "  'password': 'Z589JDfrR_',\n",
       "  'email': 'kjenkins@example.org',\n",
       "  'phone': '7626443362',\n",
       "  'role': <RoleEnum.BASIC: 'Обычная подписка'>},\n",
       " {'username': 'hwerner',\n",
       "  'password': 'kvYUheGs#8',\n",
       "  'email': 'donnahernandez@example.net',\n",
       "  'phone': '3446733303',\n",
       "  'role': <RoleEnum.BASIC: 'Обычная подписка'>},\n",
       " {'username': 'stephaniecooper',\n",
       "  'password': '2)r9MTw$Ui',\n",
       "  'email': 'thomasmark@example.net',\n",
       "  'phone': '(814)453-0954',\n",
       "  'role': <RoleEnum.PRO: 'Расширенная подписка'>}]"
      ]
     },
     "execution_count": 2,
     "metadata": {},
     "output_type": "execute_result"
    }
   ],
   "source": [
    "users_data"
   ]
  },
  {
   "cell_type": "code",
   "execution_count": 3,
   "metadata": {},
   "outputs": [
    {
     "data": {
      "text/plain": [
       "{'username': 'cortega',\n",
       " 'password': 'WOP#OpwP&5',\n",
       " 'email': 'hhudson@example.org',\n",
       " 'phone': '(819)576-8381',\n",
       " 'role': <RoleEnum.BASIC: 'Обычная подписка'>}"
      ]
     },
     "execution_count": 3,
     "metadata": {},
     "output_type": "execute_result"
    }
   ],
   "source": [
    "users_data[0]"
   ]
  },
  {
   "cell_type": "code",
   "execution_count": 4,
   "metadata": {},
   "outputs": [
    {
     "ename": "TypeError",
     "evalue": "'phone' is an invalid keyword argument for User",
     "output_type": "error",
     "traceback": [
      "\u001b[31m---------------------------------------------------------------------------\u001b[39m",
      "\u001b[31mTypeError\u001b[39m                                 Traceback (most recent call last)",
      "\u001b[36mCell\u001b[39m\u001b[36m \u001b[39m\u001b[32mIn[4]\u001b[39m\u001b[32m, line 4\u001b[39m\n\u001b[32m      1\u001b[39m \u001b[38;5;28;01mfrom\u001b[39;00m\u001b[38;5;250m \u001b[39m\u001b[34;01mmodels\u001b[39;00m\u001b[34;01m.\u001b[39;00m\u001b[34;01muser\u001b[39;00m\u001b[38;5;250m \u001b[39m\u001b[38;5;28;01mimport\u001b[39;00m User\n\u001b[32m----> \u001b[39m\u001b[32m4\u001b[39m \u001b[43mUser\u001b[49m\u001b[43m.\u001b[49m\u001b[43mcreate\u001b[49m\u001b[43m(\u001b[49m\u001b[43m*\u001b[49m\u001b[43m*\u001b[49m\u001b[43musers_data\u001b[49m\u001b[43m[\u001b[49m\u001b[32;43m0\u001b[39;49m\u001b[43m]\u001b[49m\u001b[43m)\u001b[49m\n",
      "\u001b[36mFile \u001b[39m\u001b[32mc:\\Projects\\Lessons\\practice\\settings\\database.py:34\u001b[39m, in \u001b[36mconnection.<locals>.wrapper\u001b[39m\u001b[34m(*args, **kwargs)\u001b[39m\n\u001b[32m     32\u001b[39m \u001b[38;5;28;01mexcept\u001b[39;00m \u001b[38;5;167;01mException\u001b[39;00m \u001b[38;5;28;01mas\u001b[39;00m e:\n\u001b[32m     33\u001b[39m     session.rollback()\n\u001b[32m---> \u001b[39m\u001b[32m34\u001b[39m     \u001b[38;5;28;01mraise\u001b[39;00m e\n\u001b[32m     35\u001b[39m \u001b[38;5;28;01mfinally\u001b[39;00m:\n\u001b[32m     36\u001b[39m     session.close()\n",
      "\u001b[36mFile \u001b[39m\u001b[32mc:\\Projects\\Lessons\\practice\\settings\\database.py:31\u001b[39m, in \u001b[36mconnection.<locals>.wrapper\u001b[39m\u001b[34m(*args, **kwargs)\u001b[39m\n\u001b[32m     29\u001b[39m \u001b[38;5;28;01mwith\u001b[39;00m session_maker() \u001b[38;5;28;01mas\u001b[39;00m session:\n\u001b[32m     30\u001b[39m     \u001b[38;5;28;01mtry\u001b[39;00m:\n\u001b[32m---> \u001b[39m\u001b[32m31\u001b[39m         \u001b[38;5;28;01mreturn\u001b[39;00m \u001b[43mmethod\u001b[49m\u001b[43m(\u001b[49m\u001b[43m*\u001b[49m\u001b[43margs\u001b[49m\u001b[43m,\u001b[49m\u001b[43m \u001b[49m\u001b[43msession\u001b[49m\u001b[43m=\u001b[49m\u001b[43msession\u001b[49m\u001b[43m,\u001b[49m\u001b[43m \u001b[49m\u001b[43m*\u001b[49m\u001b[43m*\u001b[49m\u001b[43mkwargs\u001b[49m\u001b[43m)\u001b[49m\n\u001b[32m     32\u001b[39m     \u001b[38;5;28;01mexcept\u001b[39;00m \u001b[38;5;167;01mException\u001b[39;00m \u001b[38;5;28;01mas\u001b[39;00m e:\n\u001b[32m     33\u001b[39m         session.rollback()\n",
      "\u001b[36mFile \u001b[39m\u001b[32mc:\\Projects\\Lessons\\practice\\models\\user.py:24\u001b[39m, in \u001b[36mUser.create\u001b[39m\u001b[34m(cls, session, **value)\u001b[39m\n\u001b[32m     21\u001b[39m \u001b[38;5;129m@classmethod\u001b[39m\n\u001b[32m     22\u001b[39m \u001b[38;5;129m@connection\u001b[39m\n\u001b[32m     23\u001b[39m \u001b[38;5;28;01mdef\u001b[39;00m\u001b[38;5;250m \u001b[39m\u001b[34mcreate\u001b[39m(\u001b[38;5;28mcls\u001b[39m, session: Session = \u001b[38;5;28;01mNone\u001b[39;00m, **value):\n\u001b[32m---> \u001b[39m\u001b[32m24\u001b[39m     new_user = \u001b[38;5;28;43mcls\u001b[39;49m\u001b[43m(\u001b[49m\u001b[43m*\u001b[49m\u001b[43m*\u001b[49m\u001b[43mvalue\u001b[49m\u001b[43m)\u001b[49m\n\u001b[32m     25\u001b[39m     session.add(new_user)\n\u001b[32m     26\u001b[39m     session.commit()\n",
      "\u001b[36mFile \u001b[39m\u001b[32m<string>:4\u001b[39m, in \u001b[36m__init__\u001b[39m\u001b[34m(self, **kwargs)\u001b[39m\n",
      "\u001b[36mFile \u001b[39m\u001b[32mc:\\Users\\NatalkaNerealka\\AppData\\Local\\pypoetry\\Cache\\virtualenvs\\practice-oROHw4NI-py3.13\\Lib\\site-packages\\sqlalchemy\\orm\\state.py:571\u001b[39m, in \u001b[36mInstanceState._initialize_instance\u001b[39m\u001b[34m(*mixed, **kwargs)\u001b[39m\n\u001b[32m    569\u001b[39m     manager.original_init(*mixed[\u001b[32m1\u001b[39m:], **kwargs)\n\u001b[32m    570\u001b[39m \u001b[38;5;28;01mexcept\u001b[39;00m:\n\u001b[32m--> \u001b[39m\u001b[32m571\u001b[39m \u001b[43m    \u001b[49m\u001b[38;5;28;43;01mwith\u001b[39;49;00m\u001b[43m \u001b[49m\u001b[43mutil\u001b[49m\u001b[43m.\u001b[49m\u001b[43msafe_reraise\u001b[49m\u001b[43m(\u001b[49m\u001b[43m)\u001b[49m\u001b[43m:\u001b[49m\n\u001b[32m    572\u001b[39m \u001b[43m        \u001b[49m\u001b[43mmanager\u001b[49m\u001b[43m.\u001b[49m\u001b[43mdispatch\u001b[49m\u001b[43m.\u001b[49m\u001b[43minit_failure\u001b[49m\u001b[43m(\u001b[49m\u001b[38;5;28;43mself\u001b[39;49m\u001b[43m,\u001b[49m\u001b[43m \u001b[49m\u001b[43margs\u001b[49m\u001b[43m,\u001b[49m\u001b[43m \u001b[49m\u001b[43mkwargs\u001b[49m\u001b[43m)\u001b[49m\n",
      "\u001b[36mFile \u001b[39m\u001b[32mc:\\Users\\NatalkaNerealka\\AppData\\Local\\pypoetry\\Cache\\virtualenvs\\practice-oROHw4NI-py3.13\\Lib\\site-packages\\sqlalchemy\\util\\langhelpers.py:146\u001b[39m, in \u001b[36msafe_reraise.__exit__\u001b[39m\u001b[34m(self, type_, value, traceback)\u001b[39m\n\u001b[32m    144\u001b[39m     \u001b[38;5;28;01massert\u001b[39;00m exc_value \u001b[38;5;129;01mis\u001b[39;00m \u001b[38;5;129;01mnot\u001b[39;00m \u001b[38;5;28;01mNone\u001b[39;00m\n\u001b[32m    145\u001b[39m     \u001b[38;5;28mself\u001b[39m._exc_info = \u001b[38;5;28;01mNone\u001b[39;00m  \u001b[38;5;66;03m# remove potential circular references\u001b[39;00m\n\u001b[32m--> \u001b[39m\u001b[32m146\u001b[39m     \u001b[38;5;28;01mraise\u001b[39;00m exc_value.with_traceback(exc_tb)\n\u001b[32m    147\u001b[39m \u001b[38;5;28;01melse\u001b[39;00m:\n\u001b[32m    148\u001b[39m     \u001b[38;5;28mself\u001b[39m._exc_info = \u001b[38;5;28;01mNone\u001b[39;00m  \u001b[38;5;66;03m# remove potential circular references\u001b[39;00m\n",
      "\u001b[36mFile \u001b[39m\u001b[32mc:\\Users\\NatalkaNerealka\\AppData\\Local\\pypoetry\\Cache\\virtualenvs\\practice-oROHw4NI-py3.13\\Lib\\site-packages\\sqlalchemy\\orm\\state.py:569\u001b[39m, in \u001b[36mInstanceState._initialize_instance\u001b[39m\u001b[34m(*mixed, **kwargs)\u001b[39m\n\u001b[32m    566\u001b[39m manager.dispatch.init(\u001b[38;5;28mself\u001b[39m, args, kwargs)\n\u001b[32m    568\u001b[39m \u001b[38;5;28;01mtry\u001b[39;00m:\n\u001b[32m--> \u001b[39m\u001b[32m569\u001b[39m     \u001b[43mmanager\u001b[49m\u001b[43m.\u001b[49m\u001b[43moriginal_init\u001b[49m\u001b[43m(\u001b[49m\u001b[43m*\u001b[49m\u001b[43mmixed\u001b[49m\u001b[43m[\u001b[49m\u001b[32;43m1\u001b[39;49m\u001b[43m:\u001b[49m\u001b[43m]\u001b[49m\u001b[43m,\u001b[49m\u001b[43m \u001b[49m\u001b[43m*\u001b[49m\u001b[43m*\u001b[49m\u001b[43mkwargs\u001b[49m\u001b[43m)\u001b[49m\n\u001b[32m    570\u001b[39m \u001b[38;5;28;01mexcept\u001b[39;00m:\n\u001b[32m    571\u001b[39m     \u001b[38;5;28;01mwith\u001b[39;00m util.safe_reraise():\n",
      "\u001b[36mFile \u001b[39m\u001b[32mc:\\Users\\NatalkaNerealka\\AppData\\Local\\pypoetry\\Cache\\virtualenvs\\practice-oROHw4NI-py3.13\\Lib\\site-packages\\sqlalchemy\\orm\\decl_base.py:2175\u001b[39m, in \u001b[36m_declarative_constructor\u001b[39m\u001b[34m(self, **kwargs)\u001b[39m\n\u001b[32m   2173\u001b[39m \u001b[38;5;28;01mfor\u001b[39;00m k \u001b[38;5;129;01min\u001b[39;00m kwargs:\n\u001b[32m   2174\u001b[39m     \u001b[38;5;28;01mif\u001b[39;00m \u001b[38;5;129;01mnot\u001b[39;00m \u001b[38;5;28mhasattr\u001b[39m(cls_, k):\n\u001b[32m-> \u001b[39m\u001b[32m2175\u001b[39m         \u001b[38;5;28;01mraise\u001b[39;00m \u001b[38;5;167;01mTypeError\u001b[39;00m(\n\u001b[32m   2176\u001b[39m             \u001b[33m\"\u001b[39m\u001b[38;5;132;01m%r\u001b[39;00m\u001b[33m is an invalid keyword argument for \u001b[39m\u001b[38;5;132;01m%s\u001b[39;00m\u001b[33m\"\u001b[39m % (k, cls_.\u001b[34m__name__\u001b[39m)\n\u001b[32m   2177\u001b[39m         )\n\u001b[32m   2178\u001b[39m     \u001b[38;5;28msetattr\u001b[39m(\u001b[38;5;28mself\u001b[39m, k, kwargs[k])\n",
      "\u001b[31mTypeError\u001b[39m: 'phone' is an invalid keyword argument for User"
     ]
    }
   ],
   "source": [
    "from models.user import User\n",
    "\n",
    "\n",
    "User.create(**users_data[0])"
   ]
  }
 ],
 "metadata": {
  "kernelspec": {
   "display_name": "practice-oROHw4NI-py3.13",
   "language": "python",
   "name": "python3"
  },
  "language_info": {
   "codemirror_mode": {
    "name": "ipython",
    "version": 3
   },
   "file_extension": ".py",
   "mimetype": "text/x-python",
   "name": "python",
   "nbconvert_exporter": "python",
   "pygments_lexer": "ipython3",
   "version": "3.13.2"
  }
 },
 "nbformat": 4,
 "nbformat_minor": 2
}
